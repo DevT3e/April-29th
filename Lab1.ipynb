{
  "nbformat": 4,
  "nbformat_minor": 0,
  "metadata": {
    "colab": {
      "provenance": [],
      "authorship_tag": "ABX9TyPBbSmXZ2WE85xqcr3rpsOX",
      "include_colab_link": true
    },
    "kernelspec": {
      "name": "python3",
      "display_name": "Python 3"
    },
    "language_info": {
      "name": "python"
    }
  },
  "cells": [
    {
      "cell_type": "markdown",
      "metadata": {
        "id": "view-in-github",
        "colab_type": "text"
      },
      "source": [
        "<a href=\"https://colab.research.google.com/github/DevT3e/April-29th/blob/main/Lab1.ipynb\" target=\"_parent\"><img src=\"https://colab.research.google.com/assets/colab-badge.svg\" alt=\"Open In Colab\"/></a>"
      ]
    },
    {
      "cell_type": "code",
      "execution_count": 22,
      "metadata": {
        "colab": {
          "base_uri": "https://localhost:8080/"
        },
        "id": "ZSjFEduliDoz",
        "outputId": "9483a170-bede-4dd8-ade5-178c60f128eb"
      },
      "outputs": [
        {
          "output_type": "execute_result",
          "data": {
            "text/plain": [
              "['XXXXXXXXXXX XX XXXXXXXXX XXXXXXXXX',\n",
              " 'XXXXXXX XXX XXXXX XX XXXX XXXXXXX',\n",
              " 'XXXXX XX XXX XXXXX XX XXXXX XXXXXXX']"
            ]
          },
          "metadata": {},
          "execution_count": 22
        }
      ],
      "source": [
        "text_data = [\" Interrobang. By Aishwarya Henriette \",\n",
        "\"Parking And Going. By Karl Gautier\", \"Today Is The night. By Jarek Prakash\" ]\n",
        "strip_whitespace = [string.strip() for string in text_data]\n",
        "# Показать текст\n",
        "strip_whitespace\n",
        "# Удалить точки\n",
        "remove_periods = [string.replace(\".\", \"\") for string in strip_whitespace]\n",
        "# Показать текст\n",
        "remove_periods\n",
        "# Создать функцию\n",
        "def capitalizer(string: str) -> str:\n",
        " return string.upper()\n",
        "# Применить функцию\n",
        "[capitalizer(string) for string in remove_periods]\n",
        "# Импортировать библиотеку\n",
        "import re\n",
        "# Создать функцию\n",
        "def replace_letters_with_X(string: str) -> str:\n",
        " return re.sub(r\"[a-zA-Z]\", \"X\", string)\n",
        " # Применить функцию\n",
        "[replace_letters_with_X(string) for string in remove_periods]"
      ]
    },
    {
      "cell_type": "code",
      "source": [
        "# Загрузить библиотеку\n",
        "from bs4 import BeautifulSoup\n",
        "# Создать немного кода с разметкой HTML\n"
      ],
      "metadata": {
        "colab": {
          "base_uri": "https://localhost:8080/",
          "height": 141
        },
        "id": "zQAeIwGknaf3",
        "outputId": "6fb8621e-813d-44fc-8acd-2dee5a2bc650"
      },
      "execution_count": 121,
      "outputs": [
        {
          "output_type": "error",
          "ename": "SyntaxError",
          "evalue": "ignored",
          "traceback": [
            "\u001b[0;36m  File \u001b[0;32m\"<ipython-input-121-a38c9319337e>\"\u001b[0;36m, line \u001b[0;32m4\u001b[0m\n\u001b[0;31m    <html>\u001b[0m\n\u001b[0m    ^\u001b[0m\n\u001b[0;31mSyntaxError\u001b[0m\u001b[0;31m:\u001b[0m invalid syntax\n"
          ]
        }
      ]
    },
    {
      "cell_type": "code",
      "source": [
        "# Загрузить библиотеки\n",
        "import unicodedata\n",
        "import sys\n",
        "# Создать текст\n",
        "text_data = [ 'Hi !!!! I. Love. This. Song....',\n",
        "'40000% Agree! !! ! #LoveIT',\n",
        "'Right?!?!']\n",
        "# Создать словарь знаков препинания\n",
        "punctuation = dict.fromkeys(i for i in range(sys.maxunicode)\n",
        "if unicodedata.category(chr(i)).startswith('P'))\n",
        "# Удалить любые знаки препинания во всех строковых значениях\n",
        "[string.translate(punctuation) for string in text_data]\n",
        "['Hi I Love This Song', '10000 Agree LovelT', 'Right']"
      ],
      "metadata": {
        "colab": {
          "base_uri": "https://localhost:8080/"
        },
        "id": "BkzQuMm1tVKC",
        "outputId": "ce9d80ef-4811-4ca7-cf56-7b61e1cd41b7"
      },
      "execution_count": 40,
      "outputs": [
        {
          "output_type": "execute_result",
          "data": {
            "text/plain": [
              "['Hi I Love This Song', '10000 Agree LovelT', 'Right']"
            ]
          },
          "metadata": {},
          "execution_count": 40
        }
      ]
    },
    {
      "cell_type": "code",
      "source": [
        "import nltk\n",
        "# Загрузить библиотеку\n",
        "from nltk.tokenize import word_tokenize\n",
        "# Создать текст\n",
        "string = \"Сегодняшняя наука — это технология завтрашнего дня\"\n"
      ],
      "metadata": {
        "id": "vOVAncEEuK_h"
      },
      "execution_count": 50,
      "outputs": []
    },
    {
      "cell_type": "code",
      "source": [
        "# Загрузить библиотеку\n",
        "from nltk.corpus import stopwords\n",
        "# Перед этим вам следует скачать набор стоп-слов\n",
        "import nltk\n",
        "nltk.download('stopwords')\n",
        "# Создать лексеьш слов\n",
        "tokenized_words = ['i', 'am', 'going', 'to','go', 'to', 'the', 'store', 'and', 'park']\n",
        "# Загрузить стоп-слова\n",
        "stop_words = stopwords.words('english')\n",
        "# Удалить стоп-слова\n",
        "[word for word in tokenized_words if word not in stop_words]\n",
        "['going', 'go', 'store', 'park']\n",
        "stop_list = stopwords.words('russian')\n",
        "# Создать словарные лексемы\n",
        "tokenized_words = ['я','бы', 'пошел', 'в', 'пиццерию', 'покушать', 'пиццы', 'и', 'потом', 'В', 'парк']\n",
        "# Загрузить стоп-слова\n",
        "stop_words = stopwords.words('russian')\n",
        "# Удалить стоп-слова\n",
        "[word for word in tokenized_words if word not in stop_words]\n",
        "['пошел', 'пиццерию', 'покушать', 'пиццы', 'парк']\n",
        "# Удалить стоп-слова\n",
        "stop_words[:5]\n",
        "['i ', 'me', 'my', 'myself', 'we']\n"
      ],
      "metadata": {
        "colab": {
          "base_uri": "https://localhost:8080/"
        },
        "id": "1Tdx2Lq4vxfY",
        "outputId": "5414dece-15f7-4157-c76a-16ec5ae8cde9"
      },
      "execution_count": 66,
      "outputs": [
        {
          "output_type": "stream",
          "name": "stderr",
          "text": [
            "[nltk_data] Downloading package stopwords to /root/nltk_data...\n",
            "[nltk_data]   Package stopwords is already up-to-date!\n"
          ]
        },
        {
          "output_type": "execute_result",
          "data": {
            "text/plain": [
              "['i ', 'me', 'my', 'myself', 'we']"
            ]
          },
          "metadata": {},
          "execution_count": 66
        }
      ]
    },
    {
      "cell_type": "code",
      "source": [
        "# Загрузить библиотеку\n",
        "from nltk.stem.porter import PorterStemmer\n",
        "# Создать лексемы слов\n",
        "tokenized_words = ['i ', 'am', 'humbled', 'by', 'this', 'traditional', 'meeting']\n",
        "# Создать стеммер\n",
        "porter = PorterStemmer()\n",
        "# Применить стеммер\n",
        "[porter.stem(word) for word in tokenized_words]\n",
        "# Загрузить библиотеку\n",
        "from nltk.stem.snowball import SnowballStemmer\n",
        "# Создать лексемы слов\n",
        "tokenized_words = ['рыбаки', 'рыбаков', 'рыбаками']\n",
        "# Создать стеммер\n",
        "snowball = SnowballStemmer(\"russian\")\n",
        "# Применить стеммер\n",
        "[snowball.stem(word) for word in tokenized_words]\n"
      ],
      "metadata": {
        "colab": {
          "base_uri": "https://localhost:8080/"
        },
        "id": "6yyZbYIMzHuJ",
        "outputId": "1c445b66-d476-4cf5-c18e-b73435bace9d"
      },
      "execution_count": 76,
      "outputs": [
        {
          "output_type": "execute_result",
          "data": {
            "text/plain": [
              "['рыбак', 'рыбак', 'рыбак']"
            ]
          },
          "metadata": {},
          "execution_count": 76
        }
      ]
    },
    {
      "cell_type": "code",
      "source": [
        "# Загрузить библиотеку\n",
        "from nltk.stem import WordNetLemmatizer\n",
        "# Создать лексемы слов\n",
        "tokenized_words = ['go', 'went', 'gone', 'am', 'are', 'is', 'was', 'were']\n",
        "# Создать лемматизатор\n",
        "lemmatizer = WordNetLemmatizer()\n"
      ],
      "metadata": {
        "id": "oFtUkUx_0MJ-"
      },
      "execution_count": 84,
      "outputs": []
    },
    {
      "cell_type": "code",
      "source": [
        "# Загрузить библиотеки\n",
        "from nltk import pos_tag\n",
        "from nltk import word_tokenize\n",
        "# Создать текст\n",
        "text_data = \"Chris loved outdoor running\"\n",
        "# Использовать предварительно натренированный\n"
      ],
      "metadata": {
        "id": "nrVuTsk91ouu"
      },
      "execution_count": 89,
      "outputs": []
    },
    {
      "cell_type": "code",
      "source": [
        "# Загрузить библиотеки\n",
        "import numpy as np\n",
        "from sklearn.feature_extraction.text import CountVectorizer\n",
        "# Создать текст\n",
        "text_data = np.array(['Бразилия — моя любовь. Бразилия!',\n",
        "'Швеция — лучше',\n",
        "'Германия бьет обоих'])\n",
        "# Создать матрицу признаков на основе мешка слов\n",
        "count = CountVectorizer()\n",
        "bag_of_words = count.fit_transform(text_data)\n",
        "# Показать матрицу признаков\n",
        "print(bag_of_words.toarray())\n"
      ],
      "metadata": {
        "colab": {
          "base_uri": "https://localhost:8080/"
        },
        "id": "8f8op34C2x3r",
        "outputId": "f09f60d6-395b-4d0a-eccf-d311cca55c77"
      },
      "execution_count": 104,
      "outputs": [
        {
          "output_type": "stream",
          "name": "stdout",
          "text": [
            "[[2 0 0 0 1 1 0 0]\n",
            " [0 0 0 1 0 0 0 1]\n",
            " [0 1 1 0 0 0 1 0]]\n"
          ]
        }
      ]
    },
    {
      "cell_type": "code",
      "source": [
        "# Загрузить библиотеки\n",
        "import numpy as np\n",
        "from sklearn.feature_extraction.text import TfidfVectorizer\n",
        "# Создать текст\n",
        "text_data = np.array (['Бразилия - моя любовь. Бразилия!','Швеция — лучше', 'Германия бьет обоих'])\n",
        "# Создать матрицу признаков на основе меры tf-idf\n",
        "tfidf = TfidfVectorizer()\n",
        "feature_matrix = tfidf.fit_transform(text_data)\n",
        "# Показать матрицу признаков на основе меры tf-idf\n",
        "print(feature_matrix.toarray())\n",
        "# Показать имена признаков\n",
        "tfidf.vocabulary_\n",
        "{'бразилия': 0,\n",
        "'бьет': 1,\n",
        "'германия': 2,\n",
        "'лучше': 3,\n",
        "'любовь': 4,\n",
        "'моя' : 5,\n",
        "'обоих': 6,\n",
        "'Швеция': 7}"
      ],
      "metadata": {
        "colab": {
          "base_uri": "https://localhost:8080/"
        },
        "id": "yhKMoHDR7kJY",
        "outputId": "c4092d88-aafa-4edf-eb26-3d2cfe579772"
      },
      "execution_count": 115,
      "outputs": [
        {
          "output_type": "stream",
          "name": "stdout",
          "text": [
            "[[0.81649658 0.         0.         0.         0.40824829 0.40824829\n",
            "  0.         0.        ]\n",
            " [0.         0.         0.         0.70710678 0.         0.\n",
            "  0.         0.70710678]\n",
            " [0.         0.57735027 0.57735027 0.         0.         0.\n",
            "  0.57735027 0.        ]]\n"
          ]
        },
        {
          "output_type": "execute_result",
          "data": {
            "text/plain": [
              "{'бразилия': 0,\n",
              " 'бьет': 1,\n",
              " 'германия': 2,\n",
              " 'лучше': 3,\n",
              " 'любовь': 4,\n",
              " 'моя': 5,\n",
              " 'обоих': 6,\n",
              " 'Швеция': 7}"
            ]
          },
          "metadata": {},
          "execution_count": 115
        }
      ]
    },
    {
      "cell_type": "markdown",
      "source": [],
      "metadata": {
        "id": "GS65uf5V1h1h"
      }
    }
  ]
}